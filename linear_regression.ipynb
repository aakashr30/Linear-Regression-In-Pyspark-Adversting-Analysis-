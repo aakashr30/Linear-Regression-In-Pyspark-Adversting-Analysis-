{
  "cells": [
    {
      "cell_type": "markdown",
      "metadata": {
        "id": "view-in-github",
        "colab_type": "text"
      },
      "source": [
        "<a href=\"https://colab.research.google.com/github/aakashr30/Linear-Regression-In-Pyspark-Adversting-Analysis-/blob/main/linear_regression.ipynb\" target=\"_parent\"><img src=\"https://colab.research.google.com/assets/colab-badge.svg\" alt=\"Open In Colab\"/></a>"
      ]
    },
    {
      "cell_type": "markdown",
      "metadata": {
        "id": "S4XkelK0mElF"
      },
      "source": [
        "# Create entry points to spark"
      ]
    },
    {
      "cell_type": "code",
      "source": [
        "!pip install pyspark\n",
        "import pyspark"
      ],
      "metadata": {
        "id": "kjIOaTqMWGXn",
        "colab": {
          "base_uri": "https://localhost:8080/"
        },
        "outputId": "bdc0be0e-7d5d-486e-fd13-3d0546904d5c"
      },
      "execution_count": null,
      "outputs": [
        {
          "output_type": "stream",
          "name": "stdout",
          "text": [
            "Looking in indexes: https://pypi.org/simple, https://us-python.pkg.dev/colab-wheels/public/simple/\n",
            "Collecting pyspark\n",
            "  Downloading pyspark-3.2.1.tar.gz (281.4 MB)\n",
            "\u001b[K     |████████████████████████████████| 281.4 MB 29 kB/s \n",
            "\u001b[?25hCollecting py4j==0.10.9.3\n",
            "  Downloading py4j-0.10.9.3-py2.py3-none-any.whl (198 kB)\n",
            "\u001b[K     |████████████████████████████████| 198 kB 53.3 MB/s \n",
            "\u001b[?25hBuilding wheels for collected packages: pyspark\n",
            "  Building wheel for pyspark (setup.py) ... \u001b[?25l\u001b[?25hdone\n",
            "  Created wheel for pyspark: filename=pyspark-3.2.1-py2.py3-none-any.whl size=281853642 sha256=ce96d8b5821965aaffec6170882dccfc28d04692b4492e067f4284c57fe85eba\n",
            "  Stored in directory: /root/.cache/pip/wheels/9f/f5/07/7cd8017084dce4e93e84e92efd1e1d5334db05f2e83bcef74f\n",
            "Successfully built pyspark\n",
            "Installing collected packages: py4j, pyspark\n",
            "Successfully installed py4j-0.10.9.3 pyspark-3.2.1\n"
          ]
        }
      ]
    },
    {
      "cell_type": "code",
      "execution_count": null,
      "metadata": {
        "collapsed": true,
        "id": "ldHmW9FZmElN"
      },
      "outputs": [],
      "source": [
        "#from pyspark import SparkContext\n",
        "#sc = SparkContext(master = 'local')\n",
        "\n",
        "#from pyspark.sql import SparkSession\n",
        "#spark = SparkSession.builder \\\n",
        "#          .appName(\"Python Spark SQL basic example\") \\\n",
        "#          .config(\"spark.some.config.option\", \"some-value\") \\\n",
        "#          .getOrCreate()"
      ]
    },
    {
      "cell_type": "code",
      "source": [
        "from pyspark.sql import SparkSession"
      ],
      "metadata": {
        "id": "ohKqQyXjY-9Z"
      },
      "execution_count": null,
      "outputs": []
    },
    {
      "cell_type": "code",
      "source": [
        "#  Create SparkSession object 'spark'\n",
        "spark = SparkSession.builder.appName('Advertising').getOrCreate()"
      ],
      "metadata": {
        "id": "PX78KEBNZBkq"
      },
      "execution_count": null,
      "outputs": []
    },
    {
      "cell_type": "markdown",
      "metadata": {
        "id": "gC5NRTy6mElP"
      },
      "source": [
        "# Linear regression without cross-valiation"
      ]
    },
    {
      "cell_type": "markdown",
      "metadata": {
        "id": "7TCTvSKhmElQ"
      },
      "source": [
        "## Import data"
      ]
    },
    {
      "cell_type": "code",
      "source": [
        "from google.colab import drive\n",
        "drive.mount('/content/drive')"
      ],
      "metadata": {
        "colab": {
          "base_uri": "https://localhost:8080/"
        },
        "id": "4uMDmhGkZMGj",
        "outputId": "d946a7eb-a947-495a-a26c-8fbef34f2bf5"
      },
      "execution_count": null,
      "outputs": [
        {
          "output_type": "stream",
          "name": "stdout",
          "text": [
            "Mounted at /content/drive\n"
          ]
        }
      ]
    },
    {
      "cell_type": "code",
      "execution_count": null,
      "metadata": {
        "id": "YkMCFHb-mElQ",
        "colab": {
          "base_uri": "https://localhost:8080/"
        },
        "outputId": "cc044633-ac49-41e3-c567-fe270da4926f"
      },
      "outputs": [
        {
          "output_type": "stream",
          "name": "stdout",
          "text": [
            "+---+-----+-----+---------+-----+\n",
            "|_c0|   TV|radio|newspaper|sales|\n",
            "+---+-----+-----+---------+-----+\n",
            "|  1|230.1| 37.8|     69.2| 22.1|\n",
            "|  2| 44.5| 39.3|     45.1| 10.4|\n",
            "|  3| 17.2| 45.9|     69.3|  9.3|\n",
            "|  4|151.5| 41.3|     58.5| 18.5|\n",
            "|  5|180.8| 10.8|     58.4| 12.9|\n",
            "+---+-----+-----+---------+-----+\n",
            "only showing top 5 rows\n",
            "\n"
          ]
        }
      ],
      "source": [
        "ad = spark.read.csv('/content/drive/MyDrive/0.MKCE/Datasets/Advertising.csv', \n",
        "                    header=True, \n",
        "                    inferSchema=True)\n",
        "ad.show(5)"
      ]
    },
    {
      "cell_type": "markdown",
      "metadata": {
        "id": "8qdTDJrBmElR"
      },
      "source": [
        "## Transform data structure"
      ]
    },
    {
      "cell_type": "code",
      "execution_count": null,
      "metadata": {
        "id": "BU-fwD99mElS",
        "colab": {
          "base_uri": "https://localhost:8080/"
        },
        "outputId": "b884c32e-8983-4cb4-a837-2083bc3833ec"
      },
      "outputs": [
        {
          "output_type": "stream",
          "name": "stdout",
          "text": [
            "+----------------+-----+\n",
            "|        features|label|\n",
            "+----------------+-----+\n",
            "|[1.0,230.1,37.8]| 22.1|\n",
            "| [2.0,44.5,39.3]| 10.4|\n",
            "| [3.0,17.2,45.9]|  9.3|\n",
            "|[4.0,151.5,41.3]| 18.5|\n",
            "|[5.0,180.8,10.8]| 12.9|\n",
            "+----------------+-----+\n",
            "only showing top 5 rows\n",
            "\n"
          ]
        }
      ],
      "source": [
        "from pyspark.ml.linalg import Vectors\n",
        "\n",
        "ad_df = ad.rdd.map(lambda x: [Vectors.dense(x[0:3]), \n",
        "                              x[-1]]).toDF(['features', \n",
        "                                            'label'])\n",
        "\n",
        "ad_df.show(5)"
      ]
    },
    {
      "cell_type": "markdown",
      "metadata": {
        "id": "YwC4NEtBmElT"
      },
      "source": [
        "## Build linear regression model"
      ]
    },
    {
      "cell_type": "code",
      "execution_count": null,
      "metadata": {
        "collapsed": true,
        "id": "iOhz39_FmElU"
      },
      "outputs": [],
      "source": [
        "from pyspark.ml.regression import LinearRegression\n",
        "\n",
        "lr = LinearRegression(featuresCol = 'features', \n",
        "                      labelCol = 'label')"
      ]
    },
    {
      "cell_type": "markdown",
      "metadata": {
        "id": "YLOpfzBXmElW"
      },
      "source": [
        "## Fit the model"
      ]
    },
    {
      "cell_type": "code",
      "execution_count": null,
      "metadata": {
        "collapsed": true,
        "id": "ZuzoRxFEmElW"
      },
      "outputs": [],
      "source": [
        "lr_model = lr.fit(ad_df)"
      ]
    },
    {
      "cell_type": "markdown",
      "metadata": {
        "id": "wtGVkAXlmElX"
      },
      "source": [
        "## Prediction"
      ]
    },
    {
      "cell_type": "code",
      "execution_count": null,
      "metadata": {
        "id": "TEox7lKnmElX"
      },
      "outputs": [],
      "source": [
        "pred = lr_model.transform(ad_df)\n",
        "pred.show(5)"
      ]
    },
    {
      "cell_type": "code",
      "source": [
        ""
      ],
      "metadata": {
        "id": "ns9kz4OIGXXP"
      },
      "execution_count": null,
      "outputs": []
    },
    {
      "cell_type": "markdown",
      "metadata": {
        "id": "R4HBt-tHmElY"
      },
      "source": [
        "## Module evaluation"
      ]
    },
    {
      "cell_type": "code",
      "execution_count": null,
      "metadata": {
        "id": "ZL6OpTPtmElY"
      },
      "outputs": [],
      "source": [
        "from pyspark.ml.evaluation import RegressionEvaluator \n",
        "\n",
        "evaluator = RegressionEvaluator(predictionCol='prediction', \n",
        "                                labelCol='label')\n",
        "\n",
        "evaluator.setMetricName('r2').evaluate(pred)"
      ]
    },
    {
      "cell_type": "markdown",
      "metadata": {
        "id": "JcjPTL2HmElc"
      },
      "source": [
        "## Compare results with R\n",
        "The comparison below shows that the linear regression analyses from pyspark and R obtained very close results."
      ]
    },
    {
      "cell_type": "markdown",
      "metadata": {
        "id": "gWXR5SvQmEld"
      },
      "source": [
        "```{r}\n",
        "# intercept and coefficients from R\n",
        "advertise = read.csv('data/Advertising.csv', header = TRUE)\n",
        "lr_ad = lm(Sales~., data = advertise)\n",
        "lr_ad$coefficients\n",
        "\n",
        " (Intercept)           TV        Radio    Newspaper \n",
        " 2.938889369  0.045764645  0.188530017 -0.001037493\n",
        " \n",
        "# intercept and coefficents from pyspark\n",
        "lr_model.intercept\n",
        "\n",
        "2.9388893694594134\n",
        "\n",
        "lr_model.coefficients\n",
        "\n",
        "DenseVector([0.0458, 0.1885, -0.001])\n",
        "\n",
        "# R squared from R\n",
        "summary(lr_ad)$r.squared\n",
        "\n",
        "0.8972106\n",
        "\n",
        "# R squared from pyspark\n",
        "evaluator.evaluate(ad_pred, {evaluator.metricName: \"r2\"})\n",
        "\n",
        "0.897210638178952\n",
        "\n",
        "```"
      ]
    },
    {
      "cell_type": "markdown",
      "metadata": {
        "id": "p0YJlf1hmEle"
      },
      "source": [
        "# Linear regression with cross-validation"
      ]
    },
    {
      "cell_type": "markdown",
      "metadata": {
        "id": "vHy7M-6vmEle"
      },
      "source": [
        "## Training and test datasets"
      ]
    },
    {
      "cell_type": "code",
      "execution_count": null,
      "metadata": {
        "collapsed": true,
        "id": "uNDhQP5_mEle"
      },
      "outputs": [],
      "source": [
        "training, test = ad_df.randomSplit([0.8, 0.2], \n",
        "                                   seed=123)"
      ]
    },
    {
      "cell_type": "markdown",
      "metadata": {
        "id": "vp_qN_aKmElf"
      },
      "source": [
        "## Build cross-validation model"
      ]
    },
    {
      "cell_type": "code",
      "execution_count": null,
      "metadata": {
        "collapsed": true,
        "id": "7aTiegCbmElf"
      },
      "outputs": [],
      "source": [
        "##=====build cross valiation model======\n",
        "\n",
        "# estimator\n",
        "lr = LinearRegression(featuresCol = 'features', \n",
        "                      labelCol = 'label')\n",
        "\n",
        "# parameter grid\n",
        "from pyspark.ml.tuning import ParamGridBuilder\n",
        "\n",
        "param_grid = ParamGridBuilder().\\\n",
        "    addGrid(lr.regParam, [0, 0.5, 1]).\\\n",
        "    addGrid(lr.elasticNetParam, [0, 0.5, 1]).\\\n",
        "    build()\n",
        "    \n",
        "# evaluator\n",
        "evaluator = RegressionEvaluator(predictionCol='prediction',\n",
        "                                labelCol='label', \n",
        "                                metricName='r2')\n",
        "\n",
        "# cross-validation model\n",
        "from pyspark.ml.tuning import CrossValidator\n",
        "\n",
        "cv = CrossValidator(estimator=lr, \n",
        "                    estimatorParamMaps=param_grid,\n",
        "                    evaluator=evaluator, \n",
        "                    numFolds=4)"
      ]
    },
    {
      "cell_type": "markdown",
      "metadata": {
        "id": "4hb4f3IFmElf"
      },
      "source": [
        "## Fit cross-validation model"
      ]
    },
    {
      "cell_type": "code",
      "execution_count": null,
      "metadata": {
        "collapsed": true,
        "id": "ERVvyeF9mElg"
      },
      "outputs": [],
      "source": [
        "cv_model = cv.fit(training)"
      ]
    },
    {
      "cell_type": "markdown",
      "metadata": {
        "id": "r3JRLvEMmElg"
      },
      "source": [
        "## Prediction"
      ]
    },
    {
      "cell_type": "code",
      "execution_count": null,
      "metadata": {
        "collapsed": true,
        "id": "bRBK22-0mElg"
      },
      "outputs": [],
      "source": [
        "pred_training_cv = cv_model.transform(training)\n",
        "\n",
        "pred_test_cv = cv_model.transform(test)"
      ]
    },
    {
      "cell_type": "markdown",
      "metadata": {
        "id": "Y56jnT8CmElh"
      },
      "source": [
        "## Evaluation"
      ]
    },
    {
      "cell_type": "code",
      "execution_count": null,
      "metadata": {
        "id": "WDdePqVnmElh"
      },
      "outputs": [],
      "source": [
        "# performance on training data\n",
        "evaluator.setMetricName('r2').evaluate(pred_training_cv)"
      ]
    },
    {
      "cell_type": "code",
      "execution_count": null,
      "metadata": {
        "id": "PkCL5N8EmElh"
      },
      "outputs": [],
      "source": [
        "# performance on test data\n",
        "evaluator.setMetricName('r2').evaluate(pred_test_cv)"
      ]
    },
    {
      "cell_type": "markdown",
      "metadata": {
        "id": "0wQGQL8tmEli"
      },
      "source": [
        "## Intercept and coefficients"
      ]
    },
    {
      "cell_type": "code",
      "execution_count": null,
      "metadata": {
        "id": "u5wIuP6VmEli"
      },
      "outputs": [],
      "source": [
        "print('Intercept: ', cv_model.bestModel.intercept, \"\\n\",\n",
        "     'coefficients: ', cv_model.bestModel.coefficients)"
      ]
    },
    {
      "cell_type": "markdown",
      "metadata": {
        "id": "PSh97t-7mEli"
      },
      "source": [
        "## Get parameter values from the best model"
      ]
    },
    {
      "cell_type": "markdown",
      "metadata": {
        "id": "KtCPqDmpmElj"
      },
      "source": [
        "Parameters can be extracted by calling the java property."
      ]
    },
    {
      "cell_type": "code",
      "execution_count": null,
      "metadata": {
        "id": "AAq0nGFqmElj"
      },
      "outputs": [],
      "source": [
        "print('best regParam: ' + str(cv_model.bestModel._java_obj.getRegParam()) + \"\\n\" +\n",
        "     'best ElasticNetParam:' + str(cv_model.bestModel._java_obj.getElasticNetParam()))"
      ]
    },
    {
      "cell_type": "code",
      "execution_count": null,
      "metadata": {
        "collapsed": true,
        "id": "3xyLQf8YmElj"
      },
      "outputs": [],
      "source": [
        ""
      ]
    }
  ],
  "metadata": {
    "kernelspec": {
      "display_name": "Python 3",
      "language": "python",
      "name": "python3"
    },
    "language_info": {
      "codemirror_mode": {
        "name": "ipython",
        "version": 3
      },
      "file_extension": ".py",
      "mimetype": "text/x-python",
      "name": "python",
      "nbconvert_exporter": "python",
      "pygments_lexer": "ipython3",
      "version": "3.6.1"
    },
    "colab": {
      "name": "linear-regression.ipynb",
      "provenance": [],
      "collapsed_sections": [],
      "include_colab_link": true
    }
  },
  "nbformat": 4,
  "nbformat_minor": 0
}